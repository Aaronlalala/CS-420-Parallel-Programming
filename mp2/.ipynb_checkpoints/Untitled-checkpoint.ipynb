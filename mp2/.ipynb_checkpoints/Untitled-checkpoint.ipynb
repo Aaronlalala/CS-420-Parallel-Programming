{
 "cells": [
  {
   "cell_type": "code",
   "execution_count": 1,
   "id": "748b330a-8d4d-4cf3-87a8-c74130a34a92",
   "metadata": {},
   "outputs": [],
   "source": [
    "import pandas as pd\n",
    "import matplotlib.pyplot as plt"
   ]
  },
  {
   "cell_type": "code",
   "execution_count": 2,
   "id": "392eae03-1fe5-48fe-831e-dd3d89efee2f",
   "metadata": {},
   "outputs": [],
   "source": [
    "data = pd.read_excel(\"results.xlsx\")"
   ]
  },
  {
   "cell_type": "code",
   "execution_count": 3,
   "id": "33e3c3a1-3a1c-4c14-9d39-249552a6685e",
   "metadata": {},
   "outputs": [
    {
     "data": {
      "text/html": [
       "<div>\n",
       "<style scoped>\n",
       "    .dataframe tbody tr th:only-of-type {\n",
       "        vertical-align: middle;\n",
       "    }\n",
       "\n",
       "    .dataframe tbody tr th {\n",
       "        vertical-align: top;\n",
       "    }\n",
       "\n",
       "    .dataframe thead th {\n",
       "        text-align: right;\n",
       "    }\n",
       "</style>\n",
       "<table border=\"1\" class=\"dataframe\">\n",
       "  <thead>\n",
       "    <tr style=\"text-align: right;\">\n",
       "      <th></th>\n",
       "      <th>Number of Cores</th>\n",
       "      <th>Manual Threads</th>\n",
       "      <th>OpenMP</th>\n",
       "    </tr>\n",
       "  </thead>\n",
       "  <tbody>\n",
       "    <tr>\n",
       "      <th>0</th>\n",
       "      <td>1</td>\n",
       "      <td>0.997</td>\n",
       "      <td>0.987</td>\n",
       "    </tr>\n",
       "    <tr>\n",
       "      <th>1</th>\n",
       "      <td>2</td>\n",
       "      <td>1.403</td>\n",
       "      <td>1.736</td>\n",
       "    </tr>\n",
       "    <tr>\n",
       "      <th>2</th>\n",
       "      <td>4</td>\n",
       "      <td>1.613</td>\n",
       "      <td>2.703</td>\n",
       "    </tr>\n",
       "    <tr>\n",
       "      <th>3</th>\n",
       "      <td>8</td>\n",
       "      <td>2.666</td>\n",
       "      <td>3.864</td>\n",
       "    </tr>\n",
       "    <tr>\n",
       "      <th>4</th>\n",
       "      <td>16</td>\n",
       "      <td>3.708</td>\n",
       "      <td>4.404</td>\n",
       "    </tr>\n",
       "    <tr>\n",
       "      <th>5</th>\n",
       "      <td>20</td>\n",
       "      <td>3.959</td>\n",
       "      <td>4.736</td>\n",
       "    </tr>\n",
       "    <tr>\n",
       "      <th>6</th>\n",
       "      <td>24</td>\n",
       "      <td>4.263</td>\n",
       "      <td>4.336</td>\n",
       "    </tr>\n",
       "    <tr>\n",
       "      <th>7</th>\n",
       "      <td>32</td>\n",
       "      <td>4.567</td>\n",
       "      <td>4.361</td>\n",
       "    </tr>\n",
       "    <tr>\n",
       "      <th>8</th>\n",
       "      <td>40</td>\n",
       "      <td>4.869</td>\n",
       "      <td>4.028</td>\n",
       "    </tr>\n",
       "    <tr>\n",
       "      <th>9</th>\n",
       "      <td>64</td>\n",
       "      <td>5.089</td>\n",
       "      <td>3.782</td>\n",
       "    </tr>\n",
       "  </tbody>\n",
       "</table>\n",
       "</div>"
      ],
      "text/plain": [
       "   Number of Cores  Manual Threads  OpenMP\n",
       "0                1           0.997   0.987\n",
       "1                2           1.403   1.736\n",
       "2                4           1.613   2.703\n",
       "3                8           2.666   3.864\n",
       "4               16           3.708   4.404\n",
       "5               20           3.959   4.736\n",
       "6               24           4.263   4.336\n",
       "7               32           4.567   4.361\n",
       "8               40           4.869   4.028\n",
       "9               64           5.089   3.782"
      ]
     },
     "execution_count": 3,
     "metadata": {},
     "output_type": "execute_result"
    }
   ],
   "source": [
    "data"
   ]
  },
  {
   "cell_type": "code",
   "execution_count": 10,
   "id": "623df37f-0e45-49c2-9bed-ad81ea26a11a",
   "metadata": {},
   "outputs": [
    {
     "data": {
      "image/png": "[encoded data removed]",
      "text/plain": [
       "<Figure size 432x288 with 1 Axes>"
      ]
     },
     "metadata": {
      "needs_background": "light"
     },
     "output_type": "display_data"
    }
   ],
   "source": [
    "plt.plot(data[\"Number of Cores\"], data[\"Manual Threads\"])\n",
    "plt.plot(data[\"Number of Cores\"], data[\"OpenMP\"])\n",
    "plt.grid()\n",
    "plt.title(\"Speedup v.s. Number of Cores\")\n",
    "plt.legend([\"Manual Threads\", \"OpenMP\"])\n",
    "plt.savefig(\"Speedup v.s. Number of Cores.png\", dpi=80)"
   ]
  },
  {
   "cell_type": "code",
   "execution_count": null,
   "id": "c53d42a7-504c-443a-ae95-ab3d9b6399e6",
   "metadata": {},
   "outputs": [],
   "source": []
  }
 ],
 "metadata": {
  "kernelspec": {
   "display_name": "Python 3 (ipykernel)",
   "language": "python",
   "name": "python3"
  },
  "language_info": {
   "codemirror_mode": {
    "name": "ipython",
    "version": 3
   },
   "file_extension": ".py",
   "mimetype": "text/x-python",
   "name": "python",
   "nbconvert_exporter": "python",
   "pygments_lexer": "ipython3",
   "version": "3.9.7"
  }
 },
 "nbformat": 4,
 "nbformat_minor": 5
}
